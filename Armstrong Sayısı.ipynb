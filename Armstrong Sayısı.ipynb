{
 "cells": [
  {
   "cell_type": "markdown",
   "id": "58c26be0",
   "metadata": {},
   "source": [
    "Bir sayının, tüm basamaklarındaki rakamların sayının basamak katına toplamı kendisine eşit olan sayılara Armstrong sayısı denir. Örneğin; 407 sayısını ele alalım. 407’yi rakamlarına ayıralım. Sonrasında da bu rakamları, sayı üç haneli olduğu için rakamların küplerini alıp toplayalım:\n",
    "\n",
    "407(43) + (03) + (73) = 407 yapmaktadır. Yani bu demektir ki 407 sayısı Armstrong bir sayıdır."
   ]
  },
  {
   "cell_type": "code",
   "execution_count": null,
   "id": "0dac0950",
   "metadata": {},
   "outputs": [],
   "source": [
    "sayi = int(input(\"Sayıyı Giriniz:\"))\n",
    "basamak = str(sayi)\n",
    "toplam=0\n",
    " \n",
    "for x in basamak:\n",
    "  rakam = int(x)**len(basamak)\n",
    "  toplam += rakam\n",
    " \n",
    "if(sayi == toplam):\n",
    "  print(\"Bu Bir Armstrong Sayısıdır.\")\n",
    "else:\n",
    "  print(\"Bu bir Armstong Sayısı Degildir.\")"
   ]
  }
 ],
 "metadata": {
  "kernelspec": {
   "display_name": "Python 3 (ipykernel)",
   "language": "python",
   "name": "python3"
  },
  "language_info": {
   "codemirror_mode": {
    "name": "ipython",
    "version": 3
   },
   "file_extension": ".py",
   "mimetype": "text/x-python",
   "name": "python",
   "nbconvert_exporter": "python",
   "pygments_lexer": "ipython3",
   "version": "3.11.3"
  }
 },
 "nbformat": 4,
 "nbformat_minor": 5
}
